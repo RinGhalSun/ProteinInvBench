{
 "cells": [
  {
   "cell_type": "markdown",
   "metadata": {},
   "source": [
    "# 1. Save sequence info of 'Result.pt' to fasta"
   ]
  },
  {
   "cell_type": "code",
   "execution_count": 1,
   "metadata": {},
   "outputs": [
    {
     "name": "stderr",
     "output_type": "stream",
     "text": [
      "/home/zhengsun/miniconda3/envs/se3/lib/python3.9/site-packages/tqdm/auto.py:22: TqdmWarning: IProgress not found. Please update jupyter and ipywidgets. See https://ipywidgets.readthedocs.io/en/stable/user_install.html\n",
      "  from .autonotebook import tqdm as notebook_tqdm\n"
     ]
    }
   ],
   "source": [
    "import torch\n",
    "import os\n",
    "from Bio import SeqIO\n",
    "import requests\n",
    "from tqdm import tqdm"
   ]
  },
  {
   "cell_type": "markdown",
   "metadata": {},
   "source": [
    "## 1.1 Results on test sets of 'CATH4.2', 'CATH4.3' for 'PiFold' and 'ProteinMPNN'"
   ]
  },
  {
   "cell_type": "code",
   "execution_count": 2,
   "metadata": {},
   "outputs": [],
   "source": [
    "def convert_and_save_sequences(result, file_name):\n",
    "    amino_acid_map = {\n",
    "        0: 'X', 4: 'L', 5: 'A', 6: 'G', 7: 'V', 8: 'S', 9: 'E', 10: 'R',\n",
    "        11: 'T', 12: 'I', 13: 'D', 14: 'P', 15: 'K', 16: 'Q', 17: 'N',\n",
    "        18: 'F', 19: 'Y', 20: 'M', 21: 'H', 22: 'W', 23: 'C'\n",
    "    }\n",
    "    \n",
    "    fasta_content = \"\"\n",
    "    \n",
    "    for i in range(len(result['title'])):\n",
    "        title = result['title'][i]\n",
    "        true_seq = result['true_seq'][i]\n",
    "        pred_seq = result['pred_probs'][i].argmax(dim=1)\n",
    "        \n",
    "        converted_true_seq = ''.join(amino_acid_map[num.item()] for num in true_seq)\n",
    "        converted_pred_seq = ''.join(amino_acid_map[num.item()] for num in pred_seq)\n",
    "        \n",
    "        fasta_content += f\">{title} True sequence\\n{converted_true_seq}\\n\"\n",
    "        fasta_content += f\">{title} Predicted sequence\\n{converted_pred_seq}\\n\"\n",
    "\n",
    "    with open(file_name, \"w\") as file:\n",
    "        file.write(fasta_content)"
   ]
  },
  {
   "cell_type": "code",
   "execution_count": 3,
   "metadata": {},
   "outputs": [
    {
     "name": "stdout",
     "output_type": "stream",
     "text": [
      "Processed and saved: /home/zhengsun/code/protein/ProteinInvBench/results/fasta_files/CATH4.2_ProteinMPNN.fasta\n",
      "Processed and saved: /home/zhengsun/code/protein/ProteinInvBench/results/fasta_files/CATH4.2_PiFold.fasta\n",
      "Processed and saved: /home/zhengsun/code/protein/ProteinInvBench/results/fasta_files/CATH4.3_ProteinMPNN.fasta\n",
      "Processed and saved: /home/zhengsun/code/protein/ProteinInvBench/results/fasta_files/CATH4.3_PiFold.fasta\n"
     ]
    }
   ],
   "source": [
    "base_path = \"/home/zhengsun/code/protein/ProteinInvBench/results/model_zoom\"\n",
    "output_directory = \"/home/zhengsun/code/protein/ProteinInvBench/results/fasta_files\"\n",
    "\n",
    "os.makedirs(output_directory, exist_ok=True)\n",
    "\n",
    "for dataset in ['CATH4.2', 'CATH4.3']:\n",
    "    for method in ['ProteinMPNN', 'PiFold']:\n",
    "        file_path = os.path.join(base_path, dataset, method, \"results.pt\")\n",
    "        fasta_file_name = f\"{dataset}_{method}.fasta\"\n",
    "        output_file_path = os.path.join(output_directory, fasta_file_name)\n",
    "        \n",
    "        if os.path.exists(file_path):\n",
    "            result = torch.load(file_path)\n",
    "            convert_and_save_sequences(result, output_file_path)\n",
    "            print(f\"Processed and saved: {output_file_path}\")\n",
    "        else:\n",
    "            print(f\"File does not exist: {file_path}\")"
   ]
  },
  {
   "cell_type": "markdown",
   "metadata": {},
   "source": [
    "# 2 Download PDB files"
   ]
  },
  {
   "cell_type": "code",
   "execution_count": 4,
   "metadata": {},
   "outputs": [],
   "source": [
    "def extract_pdb_id(description):\n",
    "    pdb_id = description.split()[0]\n",
    "    pdb_id = pdb_id.split('.')[0]\n",
    "    return pdb_id"
   ]
  },
  {
   "cell_type": "code",
   "execution_count": 5,
   "metadata": {},
   "outputs": [],
   "source": [
    "def download_pdb(pdb_id, output_dir):\n",
    "    pdb_file_path = os.path.join(output_dir, f\"{pdb_id.lower()}.pdb\")\n",
    "    if not os.path.exists(pdb_file_path):\n",
    "        url = f\"https://files.rcsb.org/download/{pdb_id.upper()}.pdb\"\n",
    "        response = requests.get(url)\n",
    "        if response.status_code == 200:\n",
    "            with open(pdb_file_path, 'w') as file:\n",
    "                file.write(response.text)\n",
    "        else:\n",
    "            print(f\"Failed to download {pdb_id.upper()}. HTTP Status: {response.status_code}\")"
   ]
  },
  {
   "cell_type": "code",
   "execution_count": 6,
   "metadata": {},
   "outputs": [],
   "source": [
    "def count_total_entries(fasta_dir):\n",
    "    total_entries = 0\n",
    "    for fasta_file in os.listdir(fasta_dir):\n",
    "        if fasta_file.endswith(\".fasta\"):\n",
    "            fasta_path = os.path.join(fasta_dir, fasta_file)\n",
    "            records = list(SeqIO.parse(fasta_path, \"fasta\"))\n",
    "            total_entries += len(records)\n",
    "    return total_entries"
   ]
  },
  {
   "cell_type": "code",
   "execution_count": 7,
   "metadata": {},
   "outputs": [],
   "source": [
    "def process_fasta_files(fasta_dir, output_dir, total_entries):\n",
    "    progress_bar = tqdm(total=total_entries, desc=\"Overall download progress\")\n",
    "    for fasta_file in os.listdir(fasta_dir):\n",
    "        if fasta_file.endswith(\".fasta\"):\n",
    "            fasta_path = os.path.join(fasta_dir, fasta_file)\n",
    "            for record in SeqIO.parse(fasta_path, \"fasta\"):\n",
    "                pdb_id = extract_pdb_id(record.description)\n",
    "                download_pdb(pdb_id, output_dir)\n",
    "                progress_bar.update(1)\n",
    "    progress_bar.close()"
   ]
  },
  {
   "cell_type": "code",
   "execution_count": 8,
   "metadata": {},
   "outputs": [
    {
     "name": "stderr",
     "output_type": "stream",
     "text": [
      "Overall download progress: 100%|██████████| 11936/11936 [01:37<00:00, 122.99it/s]\n"
     ]
    }
   ],
   "source": [
    "fasta_directory = \"/home/zhengsun/code/protein/ProteinInvBench/results/fasta_files\"\n",
    "output_directory = \"/home/zhengsun/code/protein/ProteinInvBench/results/reference_pdb\"\n",
    "os.makedirs(output_directory, exist_ok=True)\n",
    "total_entries = count_total_entries(fasta_directory)\n",
    "process_fasta_files(fasta_directory, output_directory, total_entries)"
   ]
  },
  {
   "cell_type": "markdown",
   "metadata": {},
   "source": [
    "# ESM-Fold for predicted sequence"
   ]
  },
  {
   "cell_type": "code",
   "execution_count": null,
   "metadata": {},
   "outputs": [],
   "source": []
  },
  {
   "cell_type": "markdown",
   "metadata": {},
   "source": []
  }
 ],
 "metadata": {
  "kernelspec": {
   "display_name": "se3",
   "language": "python",
   "name": "python3"
  },
  "language_info": {
   "codemirror_mode": {
    "name": "ipython",
    "version": 3
   },
   "file_extension": ".py",
   "mimetype": "text/x-python",
   "name": "python",
   "nbconvert_exporter": "python",
   "pygments_lexer": "ipython3",
   "version": "3.9.16"
  }
 },
 "nbformat": 4,
 "nbformat_minor": 2
}
