{
 "cells": [
  {
   "cell_type": "markdown",
   "metadata": {},
   "source": [
    "# Calculate scTM and RMSD between gt and predicted"
   ]
  },
  {
   "cell_type": "code",
   "execution_count": 14,
   "metadata": {},
   "outputs": [],
   "source": [
    "from tqdm import tqdm\n",
    "import os\n",
    "import csv\n",
    "from Bio import BiopythonDeprecationWarning\n",
    "from tmtools import tm_align\n",
    "from analysis import metrics\n",
    "from data import utils as du\n",
    "import warnings\n",
    "warnings.filterwarnings(\"ignore\", category=DeprecationWarning)\n",
    "warnings.filterwarnings(\"ignore\", category=BiopythonDeprecationWarning)\n",
    "\n",
    "from tmtools.io import get_structure, get_residue_data\n",
    "from Bio.PDB.Polypeptide import three_to_one\n",
    "import numpy as np"
   ]
  },
  {
   "cell_type": "code",
   "execution_count": 15,
   "metadata": {},
   "outputs": [],
   "source": [
    "def extract_coords_and_seq(pdb_path):\n",
    "    s = get_structure(pdb_path)\n",
    "\n",
    "    chain = next(s.get_chains())\n",
    "    coords = []\n",
    "    seq = []\n",
    "\n",
    "    for residue in chain:\n",
    "        try:\n",
    "            aa_code = three_to_one(residue.resname)\n",
    "\n",
    "            if \"CA\" in residue.child_dict:\n",
    "                coords.append(residue.child_dict[\"CA\"].coord)\n",
    "                seq.append(aa_code)\n",
    "        except KeyError:\n",
    "            if residue.resname == \"MSE\":\n",
    "                coords.append(residue.child_dict[\"CA\"].coord)\n",
    "                seq.append(\"M\")\n",
    "\n",
    "    coords = np.array(coords)\n",
    "    seq = \"\".join(seq)\n",
    "    \n",
    "    return coords, seq"
   ]
  },
  {
   "cell_type": "code",
   "execution_count": 16,
   "metadata": {},
   "outputs": [],
   "source": [
    "def calculate_tm_alignment(pdb_path_1, pdb_path_2):\n",
    "    coords_A, seq_A = extract_coords_and_seq(pdb_path_1)\n",
    "    coords_B, seq_B = extract_coords_and_seq(pdb_path_2)\n",
    "\n",
    "    res = tm_align(coords_A, coords_B, seq_A, seq_B)\n",
    "\n",
    "    return res.tm_norm_chain2"
   ]
  },
  {
   "cell_type": "code",
   "execution_count": 24,
   "metadata": {},
   "outputs": [],
   "source": [
    "\n",
    "def calculate_protein_metrics(ref_folder, esmf_folder, csv_path, csv_path_error):\n",
    "    ref_filenames = os.listdir(ref_folder)\n",
    "    esmf_filenames = os.listdir(esmf_folder)\n",
    "    \n",
    "    results = []\n",
    "    error_file = []\n",
    "\n",
    "    for ref_filename in tqdm(ref_filenames):\n",
    "        ref_pdb_path = os.path.join(ref_folder, ref_filename)\n",
    "        pdb_name = ref_filename.split(\".\")[0]\n",
    "        \n",
    "        for esmf_filename in esmf_filenames:\n",
    "            esmf_pdb_path = os.path.join(esmf_folder, esmf_filename)\n",
    "            \n",
    "            if esmf_filename.startswith(pdb_name):\n",
    "                try:\n",
    "                    scTM_value = calculate_tm_alignment(ref_pdb_path, esmf_pdb_path)\n",
    "                    coords_A, seq_A = extract_coords_and_seq(ref_pdb_path)\n",
    "                    coords_B, seq_B = extract_coords_and_seq(esmf_pdb_path)\n",
    "                    aligned_pos_1 = du.rigid_transform_3D(coords_A, coords_B)[0]\n",
    "                    rmsd_value = np.mean(np.linalg.norm(aligned_pos_1 - coords_B, axis=-1))\n",
    "                    \n",
    "                    results.append((ref_filename, esmf_filename, scTM_value, rmsd_value))\n",
    "                except Exception as e:\n",
    "                    error_file.append((ref_filename, esmf_filename, e))\n",
    "                    continue\n",
    "    \n",
    "    with open(csv_path, \"w\", newline=\"\") as csv_file:\n",
    "        csv_writer = csv.writer(csv_file)\n",
    "        csv_writer.writerow([\"Reference PDB\", \"ESMF PDB\", \"scTM Value\", \"RMSD Value\"])\n",
    "        csv_writer.writerows(results)\n",
    "        \n",
    "    with open(csv_path_error, \"w\", newline=\"\") as csv_file:\n",
    "        csv_writer = csv.writer(csv_file)\n",
    "        csv_writer.writerow([\"Reference PDB\", \"ESMF PDB\", \"error\"])\n",
    "        csv_writer.writerows(error_file)\n",
    "    print(\"All scTM and RMSD calculations completed and saved to CSV.\")"
   ]
  },
  {
   "cell_type": "markdown",
   "metadata": {},
   "source": [
    "# CATH4.2 Pifold"
   ]
  },
  {
   "cell_type": "code",
   "execution_count": 25,
   "metadata": {},
   "outputs": [
    {
     "name": "stderr",
     "output_type": "stream",
     "text": [
      "100%|██████████| 2647/2647 [05:51<00:00,  7.52it/s]"
     ]
    },
    {
     "name": "stdout",
     "output_type": "stream",
     "text": [
      "All scTM and RMSD calculations completed and saved to CSV.\n"
     ]
    },
    {
     "name": "stderr",
     "output_type": "stream",
     "text": [
      "\n"
     ]
    }
   ],
   "source": [
    "esmf_folder = \"/home/zhengsun/code/protein/ProteinInvBench/results/esm_fold_pdb/cath42pifold\"\n",
    "ref_folder = \"/home/zhengsun/code/protein/ProteinInvBench/results/reference_pdb\"\n",
    "csv_path = \"/home/zhengsun/code/protein/ProteinInvBench/results/scTM_RMSD/cath42pifold_2.csv\"\n",
    "csv_path_error = \"/home/zhengsun/code/protein/ProteinInvBench/results/scTM_RMSD/cath42pifold_error.csv\"\n",
    "\n",
    "calculate_protein_metrics(ref_folder, esmf_folder, csv_path, csv_path_error)"
   ]
  },
  {
   "cell_type": "markdown",
   "metadata": {},
   "source": [
    "# CATH4.2 ProteinMPNN"
   ]
  },
  {
   "cell_type": "code",
   "execution_count": 26,
   "metadata": {},
   "outputs": [
    {
     "name": "stderr",
     "output_type": "stream",
     "text": [
      "100%|██████████| 2647/2647 [05:39<00:00,  7.80it/s]"
     ]
    },
    {
     "name": "stdout",
     "output_type": "stream",
     "text": [
      "All scTM and RMSD calculations completed and saved to CSV.\n"
     ]
    },
    {
     "name": "stderr",
     "output_type": "stream",
     "text": [
      "\n"
     ]
    }
   ],
   "source": [
    "esmf_folder = \"/home/zhengsun/code/protein/ProteinInvBench/results/esm_fold_pdb/cath42mpnn\"\n",
    "ref_folder = \"/home/zhengsun/code/protein/ProteinInvBench/results/reference_pdb\"\n",
    "csv_path = \"/home/zhengsun/code/protein/ProteinInvBench/results/scTM_RMSD/cath42mpnn_3.csv\"\n",
    "csv_path_error = \"/home/zhengsun/code/protein/ProteinInvBench/results/scTM_RMSD/cath42mpnn_error.csv\"\n",
    "\n",
    "calculate_protein_metrics(ref_folder, esmf_folder, csv_path, csv_path_error)"
   ]
  },
  {
   "cell_type": "code",
   "execution_count": null,
   "metadata": {},
   "outputs": [],
   "source": []
  }
 ],
 "metadata": {
  "kernelspec": {
   "display_name": "se3",
   "language": "python",
   "name": "python3"
  },
  "language_info": {
   "codemirror_mode": {
    "name": "ipython",
    "version": 3
   },
   "file_extension": ".py",
   "mimetype": "text/x-python",
   "name": "python",
   "nbconvert_exporter": "python",
   "pygments_lexer": "ipython3",
   "version": "3.9.16"
  }
 },
 "nbformat": 4,
 "nbformat_minor": 2
}
